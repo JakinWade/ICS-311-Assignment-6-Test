import networkx as nx
import plotly.graph_objects as go
from ipywidgets import interact, Dropdown, FloatSlider

class SocialMediaGraph:
    def __init__(self, posts, users, views):
        """
        Initialize the social media graph.

        posts: list of dicts with keys 'id', 'author', 'views', 'comments'
        users: list of user IDs
        views: list of dicts with keys 'user', 'post'
        """
        self.G = nx.Graph()  # create an undirected graph
        self.posts = posts
        self.users = users
        self.views = views
        # build nodes and edges
        self._build_graph()
        # compute initial layouts for 2D and 3D
        self.pos2d = nx.spring_layout(self.G, seed=42)
        self.pos3d = nx.spring_layout(self.G, dim=3, seed=42)

    def _build_graph(self):
        """
        Add user and post nodes, and edges for authorship and views.
        """
        # add user nodes
        for u in self.users:
            self.G.add_node(u, node_type='user')

        # add post nodes and authorship edges
        for p in self.posts:
            pid = p['id']
            self.G.add_node(pid,
                            node_type='post',
                            views=p.get('views', 0),
                            comments=p.get('comments', 0))
            # connect author to post
            self.G.add_edge(p['author'], pid, edge_type='authorship')

        # add view edges between users and posts they've viewed
        for v in self.views:
            self.G.add_edge(v['user'], v['post'], edge_type='view')

    def _compute_importance(self, criterion='views', blend_ratio=0.5):
        """
        Compute normalized importance scores for posts.

        criterion: 'views', 'comments', or 'blend'
        blend_ratio: weight for comments when blending
        """
        # gather raw counts
        vs = [p.get('views', 0) for p in self.posts]
        cs = [p.get('comments', 0) for p in self.posts]
        max_v = max(vs) if vs else 1
        max_c = max(cs) if cs else 1
        imp = {}

        for p in self.posts:
            pid = p['id']
            # normalize to [0,1]
            v = p.get('views', 0) / max_v
            c = p.get('comments', 0) / max_c
            # choose based on criterion
            if criterion == 'views':
                imp[pid] = v
            elif criterion == 'comments':
                imp[pid] = c
            else:  # blend both metrics
                imp[pid] = blend_ratio * c + (1 - blend_ratio) * v
        return imp

    def draw_2d(self, criterion='views', blend_ratio=0.5):
        """
        Render a 2D plot of the network with posts sized by importance.
        """
        imp = self._compute_importance(criterion, blend_ratio)

        # prepare edge traces
        edge_x, edge_y = [], []
        for u, v in self.G.edges():
            x0, y0 = self.pos2d[u]
            x1, y1 = self.pos2d[v]
            # segment per edge
            edge_x += [x0, x1, None]
            edge_y += [y0, y1, None]
        edge_trace = go.Scatter(
            x=edge_x, y=edge_y,
            mode='lines',
            line=dict(width=0.5, color='#888'),
            hoverinfo='none'
        )

        # prepare node traces
        node_x, node_y, sizes, colors, texts = [], [], [], [], []
        for n in self.G.nodes():
            x, y = self.pos2d[n]
            node_x.append(x)
            node_y.append(y)
            meta = self.G.nodes[n]
            if meta['node_type'] == 'post':
                # scale post size by importance
                val = imp[n]
                sizes.append(20 + 80 * val)
                colors.append(val)
            else:
                # fixed small size for users
                sizes.append(10)
                colors.append(0.5)
            texts.append(str(n))

        node_trace = go.Scatter(
            x=node_x, y=node_y,
            mode='markers',
            marker=dict(
                size=sizes,
                color=colors,
                colorscale='Viridis',
                showscale=True,
                line=dict(width=2, color='white')
            ),
            hoverinfo='text',
            text=texts
        )

        fig = go.Figure(data=[edge_trace, node_trace])
        fig.update_layout(
            margin=dict(l=20, r=20, t=20, b=20),
            showlegend=False
        )
        fig.show()

    def draw_3d(self, criterion='views', blend_ratio=0.5):
        """
        Render a 3D plot of the network with posts sized by importance.
        """
        imp = self._compute_importance(criterion, blend_ratio)

        # edge segments for 3D
        ex, ey, ez = [], [], []
        for u, v in self.G.edges():
            x0, y0, z0 = self.pos3d[u]
            x1, y1, z1 = self.pos3d[v]
            ex += [x0, x1, None]
            ey += [y0, y1, None]
            ez += [z0, z1, None]
        edge_trace = go.Scatter3d(
            x=ex, y=ey, z=ez,
            mode='lines',
            line=dict(width=1, color='#888'),
            hoverinfo='none'
        )

        # node scatter for 3D
        nx_, ny_, nz_, sizes, colors, texts = [], [], [], [], [], []
        for n in self.G.nodes():
            x, y, z = self.pos3d[n]
            nx_.append(x)
            ny_.append(y)
            nz_.append(z)
            meta = self.G.nodes[n]
            if meta['node_type'] == 'post':
                val = imp[n]
                sizes.append(5 + 20 * val)
                colors.append(val)
            else:
                sizes.append(3)
                colors.append(0.5)
            texts.append(str(n))

        node_trace = go.Scatter3d(
            x=nx_, y=ny_, z=nz_,
            mode='markers',
            marker=dict(
                size=sizes,
                color=colors,
                colorscale='Viridis',
                showscale=True,
                line=dict(width=1, color='white')
            ),
            hoverinfo='text',
            text=texts
        )

        fig = go.Figure(data=[edge_trace, node_trace])
        fig.update_layout(
            margin=dict(l=0, r=0, t=0, b=0),
            showlegend=False
        )
        fig.show()


def interactive_diagram(posts, users, views):
    """
    Launch an interactive 2D diagram with dropdowns for criterion
    and slider for blend ratio.
    """
    smg = SocialMediaGraph(posts, users, views)
    criterion = Dropdown(
        options=['views', 'comments', 'blend'],
        value='views',
        description='Criterion:'
    )
    blend = FloatSlider(
        value=0.5, min=0, max=1, step=0.01,
        description='Blend:'
    )

    def _update(c, b):
        smg.draw_2d(criterion=c, blend_ratio=b)

    # create interactive controls
    interact(_update, c=criterion, b=blend)

# Example usage:
# posts = [
#     {'id': 'post1', 'author': 'userA', 'views': 120, 'comments': 5},
#     {'id': 'post2', 'author': 'userB', 'views': 300, 'comments': 20},
#     {'id': 'post3', 'author': 'userC', 'views': 50, 'comments': 2},
# ]
# users = ['userA', 'userB', 'userC', 'userD']
# views = [
#     {'user': 'userD', 'post': 'post1'},
#     {'user': 'userA', 'post': 'post2'},
#     {'user': 'userC', 'post': 'post2'},
# ]
# interactive_diagram(posts, users, views)
